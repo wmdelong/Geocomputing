{
 "cells": [
  {
   "cell_type": "markdown",
   "metadata": {},
   "source": [
    "# Modifiying Network Flow Algebra for Modelling Non-point Pollution for Interactive Use in Jupyter Notebook\n",
    "\n",
    "Our project is related to the nitrogen modeling case study paper by Shook, Merson, and Wentz: \"Network Flow Algebra for Modelling Non-Point Source Pollution: A Case Study in Niantic Watershed, Connecticut\" (2018, in review). Their method of non-point pollution nitrogen modeling utilized network flow algebra to create a more efficient modeling techniqe that only counts the net flow path from the nitrogen source to sink. Their method of reach reduction allows the program to not have to calculate from the pollution source, to non-source, to sink. Our goal is to use a Jupyter Notebook to add widgets that allow users to modify the input data and receive a shapefile of flow paths with accumulated nitrogen flow attributed. In the original work, the nitrogen load values are set in the stream flow shapefile based on land use NLCD values. For our modification of the original code, the user will be able to use a sliding scale widget to decide how much nitrogen (or other pollutant, potentially) will be associated with land use types that are sources for non-point pollution.\n",
    "\n",
    "To create a generalized, widely applicable workflow, the Jupyter Notebook uses two slider bars, each with a range of values representing a land use value of \"Cultivated Crops\" (30 - 50 N/acre/year) or \"Developed Land\" (40 - 60 N/acre/year). NLCD values of (22) Developed (Low Intensity), (23) Developed (Medium Intensity), and (82) Cultivated Crops are used to define Cultivated Crops and Developed Land. As the slider is changed for a given land use value, that value will be applied to the stream flow direction network; that is, in a given cell of the NLCD dataset, whatever segment of streamline passes through that cell will be attributed with the land use value. The flow direction network will then be passed into the existing code to calculate the output nitrogen load, creating a shapefile that includes the stream flow network attributed with nitrogen values.\n",
    "\n",
    "\n",
    "This project took many forms over the course of the semester. Initially, we tried to create the goal of the project using a new study area, the Lake Superior-North watershed, HUC 04010101. We obtained data from the Minnesota Pollution Control Agency (MPCA) for surface water pollution by watershed based on the USGS HUD categorization to use as validation for Nitrogen surface water pollution. We also obtained a 30 m Land Use NLCD raster from Data.gov and clipped to our study watershed and stream flow direction for 30 m DEM from Data.gov and clipped to our watershed."
   ]
  },
  {
   "cell_type": "markdown",
   "metadata": {},
   "source": [
    "## INPUT FILES\n",
    "These files will come to you in a zipped folder. Feel free to change the files paths to match where they are stored on your computer. "
   ]
  },
  {
   "cell_type": "code",
   "execution_count": null,
   "metadata": {
    "collapsed": true
   },
   "outputs": [],
   "source": [
    "# This stores the filepath for the input NLCD raster for step one\n",
    "landcover = \"C:/Users/Lauren/Documents/Graduate Coursework/Fall 2018/GEOG 5543 Advanced Geocomputing/NLCD_Niantic.tif\"\n",
    "\n",
    "# The stream flow network shapefile to be rasterized in step two\n",
    "flowdirect = \"C:/Users/Lauren/Documents/Graduate Coursework/Fall 2018/GEOG 5543 Advanced Geocomputing/StreamLoad-20181029T212254Z-001/StreamLoad/InputPath_utmz18n.shp\"\n",
    "\n",
    "# Rasterized lines created in ArcGIS, would-be outcome of step two, used in step three \n",
    "lines = \"C:/Users/Lauren/Documents/Graduate Coursework/Fall 2018/GEOG 5543 Advanced Geocomputing/flowline_ras.tif\"\n",
    "\n",
    "# Sample Niantic River flow path shapefile, used in step 4. \n",
    "flow_sample = 'C:/Users/Lauren/Documents/Graduate Coursework/Fall 2018/GEOG 5543 Advanced Geocomputing/Niantic_sample.shp'"
   ]
  },
  {
   "cell_type": "markdown",
   "metadata": {},
   "source": [
    "## Step one: Set widget values for Land Use Types"
   ]
  },
  {
   "cell_type": "code",
   "execution_count": null,
   "metadata": {},
   "outputs": [],
   "source": [
    "# Import modules\n",
    "import ipywidgets as widgets\n",
    "from IPython.display import display\n",
    "from osgeo import gdal\n",
    "from osgeo import ogr \n",
    "import rasterio\n",
    "import pprint"
   ]
  },
  {
   "cell_type": "code",
   "execution_count": 1,
   "metadata": {},
   "outputs": [
    {
     "data": {
      "application/vnd.jupyter.widget-view+json": {
       "model_id": "c86bd7c63b4b4eaaa76337d21cea2620",
       "version_major": 2,
       "version_minor": 0
      },
      "text/html": [
       "<p>Failed to display Jupyter Widget of type <code>IntSlider</code>.</p>\n",
       "<p>\n",
       "  If you're reading this message in the Jupyter Notebook or JupyterLab Notebook, it may mean\n",
       "  that the widgets JavaScript is still loading. If this message persists, it\n",
       "  likely means that the widgets JavaScript library is either not installed or\n",
       "  not enabled. See the <a href=\"https://ipywidgets.readthedocs.io/en/stable/user_install.html\">Jupyter\n",
       "  Widgets Documentation</a> for setup instructions.\n",
       "</p>\n",
       "<p>\n",
       "  If you're reading this message in another frontend (for example, a static\n",
       "  rendering on GitHub or <a href=\"https://nbviewer.jupyter.org/\">NBViewer</a>),\n",
       "  it may mean that your frontend doesn't currently support widgets.\n",
       "</p>\n"
      ],
      "text/plain": [
       "IntSlider(value=40, description='CultivatedCrops', max=60, min=40)"
      ]
     },
     "metadata": {},
     "output_type": "display_data"
    },
    {
     "data": {
      "application/vnd.jupyter.widget-view+json": {
       "model_id": "a9edd37a440f4c299d7256b160f9f6df",
       "version_major": 2,
       "version_minor": 0
      },
      "text/html": [
       "<p>Failed to display Jupyter Widget of type <code>IntSlider</code>.</p>\n",
       "<p>\n",
       "  If you're reading this message in the Jupyter Notebook or JupyterLab Notebook, it may mean\n",
       "  that the widgets JavaScript is still loading. If this message persists, it\n",
       "  likely means that the widgets JavaScript library is either not installed or\n",
       "  not enabled. See the <a href=\"https://ipywidgets.readthedocs.io/en/stable/user_install.html\">Jupyter\n",
       "  Widgets Documentation</a> for setup instructions.\n",
       "</p>\n",
       "<p>\n",
       "  If you're reading this message in another frontend (for example, a static\n",
       "  rendering on GitHub or <a href=\"https://nbviewer.jupyter.org/\">NBViewer</a>),\n",
       "  it may mean that your frontend doesn't currently support widgets.\n",
       "</p>\n"
      ],
      "text/plain": [
       "IntSlider(value=30, description='DevelopedLand', max=50, min=30)"
      ]
     },
     "metadata": {},
     "output_type": "display_data"
    }
   ],
   "source": [
    "# Create Jupyter Widget sliders for cultivated crops and developed land and display. \n",
    "w1 = widgets.IntSlider(description='CultivatedCrops', max=60, min=40)\n",
    "w2 = widgets.IntSlider(description='DevelopedLand', max=50, min=30)\n",
    "\n",
    "display(w1)\n",
    "display(w2)"
   ]
  },
  {
   "cell_type": "code",
   "execution_count": 2,
   "metadata": {},
   "outputs": [
    {
     "name": "stdout",
     "output_type": "stream",
     "text": [
      "56\n",
      "36\n"
     ]
    }
   ],
   "source": [
    "# Create variables from slider values to pass into raster reclassification code. \n",
    "xw1 = w1.value\n",
    "xw2 = w2.value\n",
    "\n",
    "# Prints values set in sliders to make sure sliders are working right!\n",
    "print(w1.value)\n",
    "print(w2.value)"
   ]
  },
  {
   "cell_type": "code",
   "execution_count": null,
   "metadata": {
    "collapsed": true
   },
   "outputs": [],
   "source": [
    "# This variable is the output file path for the reclassified landcover raster that will be produced. \n",
    "# You can modify the file path to put it where you would like\n",
    "landcover_reclass = \"C:/Users/Lauren/Documents/Graduate Coursework/Fall 2018/GEOG 5543 Advanced Geocomputing/NLCD_Niantic_reclass.tif\"\n",
    "\n",
    "# Open the NLCD tif as an array\n",
    "driver = gdal.GetDriverByName(\"GTiff\")\n",
    "file = gdal.Open(landcover)\n",
    "band = file.GetRasterBand(1)\n",
    "lista = band.ReadAsArray()\n",
    "\n",
    "# Raster reclassification - set values of all cells that are not developed - low intensity, developed - medium intensity, or cultivated crop to 0.\n",
    "# Set values of all cells that are developed land and cultivated crop to value determined by slider. \n",
    "for j in  range(file.RasterXSize):\n",
    "    for i in  range(file.RasterYSize):\n",
    "        if lista[i,j] == 22: # Use xw2 variable from w2 slider for values of developed - low intensity set by slider. \n",
    "            lista[i,j] = xw2\n",
    "        elif lista[i,j] == 23: # Use xw2 variable from w2 slider for values of developed - medium intensity set by slider. \n",
    "            lista[i,j] = xw2\n",
    "        elif lista[i,j] == 82: # Use xw1 variable from w1 slider for values of cultivated crop set by slider. \n",
    "            lista[i,j] = xw1\n",
    "        else:\n",
    "            lista[i,j] = 0\n",
    "\n",
    "# Create reclassified land cover raster\n",
    "outFile = driver.Create( landcover_reclass, file.RasterXSize , file.RasterYSize , 1)\n",
    "outFile.GetRasterBand(1).WriteArray(lista)\n",
    "\n",
    "# Define spatial reference based on input land cover raster\n",
    "proj = file.GetProjection()\n",
    "georef = file.GetGeoTransform()\n",
    "outFile.SetProjection(proj)\n",
    "outFile.SetGeoTransform(georef)\n",
    "outFile.FlushCache()\n",
    "print(\"Raster reclassified.\")"
   ]
  },
  {
   "cell_type": "markdown",
   "metadata": {},
   "source": [
    "## Step two: Rasterize Stream Flow Lines "
   ]
  },
  {
   "cell_type": "markdown",
   "metadata": {},
   "source": [
    "Rasterizing the stream flow lines shapefile did not become functional. We tried it both with the GDAL RasterizeLayer() function and the rasterize function from the command line. I think something is buggy with this function. I read a lot of recent issues with it online and I spent a whole lot of time trying to get it to work. Ultimately, due to time constraints, we decided to make the rasterized lines data in ArcGIS to use in other parts of the processs. \n",
    "\n",
    "I have left some commented out code of things that I was trying to use to debug and test if adding different things would work. When you run the Test to see if the layers are writing you can see target_ds and source_layer. The function is silently failing somewhere. The expected outcome of this block of cell is a zero and a tiff that has all zero values. One potential place we are missing is setting the projection in \"Create the destination data source.\" I left a comment in where I was trying to do that, but we moved on to work on other aspects and ran out of time.  "
   ]
  },
  {
   "cell_type": "code",
   "execution_count": null,
   "metadata": {
    "collapsed": true
   },
   "outputs": [],
   "source": [
    "#Use GDAL to open the reclassified NCLD landcover Tiff to get the cell size information and GeoTransform information\n",
    "\n",
    "#Opens landcover_reclass \n",
    "raster = gdal.Open(landcover_reclass)\n",
    "gt =raster.GetGeoTransform()\n",
    "print(gt)\n",
    "\n",
    "#Prints the pixel size to be used in the new raster for the rasterized lines\n",
    "pixelSizeX = gt[1]\n",
    "pixelSizeY =-gt[5]\n",
    "print(\"pixelSizeX:\", pixelSizeX)\n",
    "print(\"pixwlSizeY:\", pixelSizeY)"
   ]
  },
  {
   "cell_type": "code",
   "execution_count": null,
   "metadata": {
    "collapsed": true
   },
   "outputs": [],
   "source": [
    "#Recipe from GDAL documentation to convert OGR File (e.g. Shapefile) to Raster\n",
    "\n",
    "# Define pixel_size and NoData value of new raster\n",
    "pixel_size = 30\n",
    "NoData_value = -99999\n",
    "\n",
    "# Filename of input OGR file\n",
    "vector_fn = flowdirect\n",
    "\n",
    "# Filename of the raster Tiff that will be created\n",
    "raster_fn = 'lines_1.tif'\n",
    "\n",
    "# Open the data source and read in the extent and spatial reference\n",
    "source_ds = ogr.Open(vector_fn)\n",
    "source_layer = source_ds.GetLayer()\n",
    "x_min, x_max, y_min, y_max = source_layer.GetExtent()\n",
    "spatialref = source_layer.GetSpatialRef()\n",
    "\n",
    "# Create the destination data source\n",
    "x_res = int((x_max - x_min) / pixel_size)\n",
    "y_res = int((y_max - y_min) / pixel_size)\n",
    "target_ds = gdal.GetDriverByName('GTiff').Create(raster_fn, x_res, y_res, 1, gdal.GDT_UInt32)\n",
    "target_ds.SetGeoTransform((x_min, pixel_size, 0, y_max, 0, -pixel_size))\n",
    "#target_ds.SetProjection(source_ds)\n",
    "band = target_ds.GetRasterBand(1)\n",
    "band.SetNoDataValue(NoData_value)\n",
    "\n",
    "#Test to see if the layers were writin\n",
    "#print(target_ds, source_layer)\n",
    "\n",
    "# Rasterize function\n",
    "gdal.RasterizeLayer(target_ds, [1], source_layer, attributes=[\"HYDROID\"])\n",
    "\n",
    "\n",
    "band.FlushCache()"
   ]
  },
  {
   "cell_type": "markdown",
   "metadata": {},
   "source": [
    "## Step Three:  Create a dictionary using HYDROID of flow path raster as KEY and cumulative Nitrogen Load value from reclassified NLCD raster as VALUE. "
   ]
  },
  {
   "cell_type": "markdown",
   "metadata": {},
   "source": [
    "For this section the data used is the reclassified NLCD raster (dataset) and the rasterized lines (dataset_lines). This step is the least developed of our methods both because it is a complicated problem and because of time constraints. We did not get to this step until a few days before the due date and ran into issues with data. The process that I wanted to finish for this loop would be to loop through the loads_array and write the HYDROID to a dictionary as the key from the lines_array if it is not in the dictionary, add the load to each hydroid so that the value is the cumuluative nitrogen for each HYDROID. \n",
    "\n",
    "Honestly, this section felt like a whole project in itself and starting it a few days before the due date felt very overwhelming knowing that I would not have enough time. I've left in all of the places that I tested printing trying to make sure I was seeing the correct values because I had some set backs with looping correctly and with the input data. If I had been able to start this a month earlier I know I would have gotten a lot farther. "
   ]
  },
  {
   "cell_type": "code",
   "execution_count": null,
   "metadata": {
    "collapsed": true
   },
   "outputs": [],
   "source": [
    "#Open the NLCD with loads assigned based on widgets using rasterio\n",
    "dataset = rasterio.open(landcover_reclass)\n",
    "\n",
    "#Reads band1 as an array (we only have one band)\n",
    "band1 = dataset.read(1)\n",
    "print(band1)"
   ]
  },
  {
   "cell_type": "code",
   "execution_count": null,
   "metadata": {
    "collapsed": true
   },
   "outputs": [],
   "source": [
    "#Open rasterized lines tif with rasterio\n",
    "dataset_lines = rasterio.open(lines)\n",
    "\n",
    "#Reads band1 as an array\n",
    "band1_lines = dataset_lines.read(1)\n",
    "print(band1_lines)"
   ]
  },
  {
   "cell_type": "code",
   "execution_count": null,
   "metadata": {
    "collapsed": true
   },
   "outputs": [],
   "source": [
    "#Variables to refer to the opened tifs of the loads and the lines\n",
    "loads_array = band1\n",
    "lines_array = band1_lines\n",
    "\n",
    "#Dictionary to store key and value pairs.\n",
    "load_count = {} \n",
    "\n",
    "\n",
    "#print(loads_array)\n",
    "for r in range(len(loads_array)):\n",
    "    for c in range(len(loads_array[r])):\n",
    "        #print(loads_array[r])\n",
    "        \n",
    "        #I know we will need to set r to zero within the loop, but I'm not sure about this placement\n",
    "        r == 0\n",
    "        c == 0\n",
    "        \n",
    "        #I know this part errors out, I was trying to figure out how to read the lines_array while inside the loop\n",
    "        obj_id = lines_array[r][c]\n",
    "        \n",
    "        #print(loads_array[r][c]) \n",
    "        if loads_array[r][c]>0:\n",
    "            load = loads_array[r][c]\n",
    "        \n",
    "        #In the process of trying to understand how to update the dictionary \n",
    "        if obj_id not in load_count:\n",
    "            load_count.update({obj_id: 0})\n",
    "            \n",
    "        #Had not yet gotten to the point of adding the loads by HYDROID"
   ]
  },
  {
   "cell_type": "markdown",
   "metadata": {},
   "source": [
    "## Step Four: Create new field (NLoad) in original flow path shapefile and append the calculated nitrogen load value based on the HYDROID. "
   ]
  },
  {
   "cell_type": "markdown",
   "metadata": {},
   "source": [
    "In this section, we create a sample dictionary from the Niantic River flow path shapefile with HYDROID as the key and a made-up nitrogen load as the value. We then use ogr to open the shapefile, append a field called NLoad, and populate the field with the values in the dictionary based on their corresponding HYDROID. Because we were not able to successfully complete prior steps, this seemed like the best way to get as far as we possibly could on the project. "
   ]
  },
  {
   "cell_type": "code",
   "execution_count": 3,
   "metadata": {},
   "outputs": [
    {
     "name": "stdout",
     "output_type": "stream",
     "text": [
      "HYDROID 569747 has N load of 0\n",
      "HYDROID 569748 has N load of 50\n",
      "HYDROID 569749 has N load of 0\n",
      "HYDROID 569750 has N load of 100\n",
      "HYDROID 569833 has N load of 30\n",
      "HYDROID 569834 has N load of 0\n",
      "HYDROID 569835 has N load of 0\n",
      "HYDROID 570105 has N load of 50\n"
     ]
    }
   ],
   "source": [
    "# Sample dictionary with keys as HYDROID and value as Nload \n",
    "NDict = {'569747':0,'569748':50,'569749':0,'569750':100,'569833':30,'569834':0,'569835':0,'570105':50} \n",
    "\n",
    "for key in NDict:\n",
    "    print(\"HYDROID\", key, \"has N load of\", NDict[key])"
   ]
  },
  {
   "cell_type": "code",
   "execution_count": null,
   "metadata": {
    "collapsed": true
   },
   "outputs": [],
   "source": [
    "# This appends attribute field NLoad to Niantic_sample.shp\n",
    "\n",
    "# Open Niantic_sample.shp and get field names\n",
    "source = ogr.Open(flow_sample, update=True)\n",
    "layer = source.GetLayer()\n",
    "layer_defn = layer.GetLayerDefn()\n",
    "field_names = [layer_defn.GetFieldDefn(i).GetName() for i in range(layer_defn.GetFieldCount())]\n",
    "\n",
    "# Add a new field (NLoad) to existing shapefile (Niantic_sample.shp) \n",
    "new_field = ogr.FieldDefn('NLoad', ogr.OFTReal)\n",
    "layer.CreateField(new_field)\n",
    "print (len(field_names), 'NLoad' in field_names)\n",
    "print(\"NLoad field added to shapefile!\")\n",
    "\n",
    "# Save and close the file\n",
    "source = None "
   ]
  },
  {
   "cell_type": "code",
   "execution_count": null,
   "metadata": {
    "collapsed": true
   },
   "outputs": [],
   "source": [
    "# This updates NLoad field in Niantic_sample.shp with NLoad values from dictionary NDict. \n",
    "\n",
    "# Set variables so using ogr commands is easier. \n",
    "driver = ogr.GetDriverByName('ESRI Shapefile')\n",
    "Source = driver.Open(flow_sample, 1) # Uses variable set above to access shapefile. 1 sets overwrite to True.\n",
    "\n",
    "layer = Source.GetLayer()\n",
    "feature = layer.GetNextFeature() # Tells ogr to keep looking until there are no more features in the file.\n",
    "\n",
    "# Loop through features in the shapefile. \n",
    "while feature:\n",
    "    hydroID = feature.GetField('HYDROID') # Look at HYDROID field in shapefile\n",
    "    load = NDict[str(hydroID)] # For each HYDROID, cast the load as an integer to agree with field type.\n",
    "    feature.SetField(\"NLoad\", int(load)) # Set the field to equal the value associated with HYDROID\n",
    "    layer.SetFeature(feature) # Save the value to the shapefile\n",
    "    feature = layer.GetNextFeature() # Advance through all features in shapefile. \n",
    "    print(hydroID, load)\n",
    "\n",
    "# Save and close the file \n",
    "source = None "
   ]
  }
 ],
 "metadata": {
  "kernelspec": {
   "display_name": "Python 3",
   "language": "python",
   "name": "python3"
  },
  "language_info": {
   "codemirror_mode": {
    "name": "ipython",
    "version": 3
   },
   "file_extension": ".py",
   "mimetype": "text/x-python",
   "name": "python",
   "nbconvert_exporter": "python",
   "pygments_lexer": "ipython3",
   "version": "3.6.4"
  }
 },
 "nbformat": 4,
 "nbformat_minor": 2
}

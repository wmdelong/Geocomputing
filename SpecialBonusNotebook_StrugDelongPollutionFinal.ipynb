{
 "cells": [
  {
   "cell_type": "markdown",
   "metadata": {},
   "source": [
    "# Special Bonus Jupyter Notebook\n",
    "This is a bonus notebook of code that we wrote for this project along the way that didn't make it into the final project. "
   ]
  },
  {
   "cell_type": "markdown",
   "metadata": {},
   "source": [
    "Below is a program that takes in a DEM and outputs slope. The issue with this is that the slope function is incorrect and the output is a tif of all zeros. This was part of our project when we were trying to do our own study area and use new data to create stream flow path before we realized that was too large of a scope for a semester-long project"
   ]
  },
  {
   "cell_type": "code",
   "execution_count": null,
   "metadata": {
    "collapsed": true
   },
   "outputs": [],
   "source": [
    "import numpy as np\n",
    "import gdal\n",
    "\n",
    "#Storing the DEM as a variable  \n",
    "filename = \"C:/Users/Lauren/Desktop/DEM_Clip.tif\"\n",
    "\n",
    "#Where we want to store the output\n",
    "slope_file = \"C:/Users/Lauren/Desktop/Slope.tif\"\n",
    "\n",
    "#Slope function\n",
    "def slope(array): \n",
    "    x, y = np.gradient(array)\n",
    "    slope = np.pi/2. - np.arctan(np.sqrt(x*x + y*y))\n",
    "    return slope\n",
    "\n",
    "    \n",
    "#Create new Tiff\n",
    "def create_tif(outfilename, arr_out, rows, cols):\n",
    "    driver = gdal.GetDriverByName(\"GTiff\")\n",
    "    outdata = driver.Create(outfilename, rows, cols, 1, gdal.GDT_UInt32)\n",
    "    outband = outdata.GetRasterBand(1)\n",
    "    outdata.SetProjection(ds.GetProjection())#sets same projection as input\n",
    "    outband.WriteArray(arr_out)\n",
    "    outdata.FlushCache() #saves to disk\n",
    "\n",
    "#Open file using gdal\n",
    "ds = gdal.Open(filename) \n",
    "band = ds.GetRasterBand(1)\n",
    "band1 = band.ReadAsArray() #Reads band 1 as an array\n",
    "\n",
    "#Gets the size of the array with numpy\n",
    "shapelist = band1.shape \n",
    "cols = shapelist[0] #Stores the width of the raster\n",
    "rows = shapelist[1] #stores the height of the raster\n",
    "#print(shapelist)    \n",
    "\n",
    "#Run the function to create the slope tiff \n",
    "create_tif(slope_file, slope(band1), rows, cols)\n",
    "\n",
    "#important to close the files\n",
    "outdata = None \n",
    "band = None\n",
    "ds = None "
   ]
  }
 ],
 "metadata": {
  "kernelspec": {
   "display_name": "Python 3",
   "language": "python",
   "name": "python3"
  },
  "language_info": {
   "codemirror_mode": {
    "name": "ipython",
    "version": 3
   },
   "file_extension": ".py",
   "mimetype": "text/x-python",
   "name": "python",
   "nbconvert_exporter": "python",
   "pygments_lexer": "ipython3",
   "version": "3.6.3"
  }
 },
 "nbformat": 4,
 "nbformat_minor": 2
}
